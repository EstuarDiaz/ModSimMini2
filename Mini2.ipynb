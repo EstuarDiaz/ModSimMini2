{
 "cells": [
  {
   "cell_type": "markdown",
   "metadata": {},
   "source": [
    "# Mini 2"
   ]
  },
  {
   "cell_type": "markdown",
   "metadata": {},
   "source": [
    "Por: Yasmin Chavez y Estuardo Díaz"
   ]
  },
  {
   "cell_type": "markdown",
   "metadata": {},
   "source": [
    "### Ejercicio 1 – Función acumulada ponderada:"
   ]
  },
  {
   "cell_type": "code",
   "execution_count": 5,
   "metadata": {},
   "outputs": [],
   "source": [
    "import numpy as np\n",
    "import matplotlib.pyplot as plt\n",
    "from math import e, log"
   ]
  },
  {
   "cell_type": "markdown",
   "metadata": {},
   "source": [
    "Supongamos que tenemos una partición $\\{p_i\\}$ de [0,1], y un conjunto finito de funciones de probabilidad acumulada $\\{F_i\\}$.\n",
    "Entonces definimos $$F(x) = \\sum_i p_iF_i(x)$$"
   ]
  },
  {
   "cell_type": "markdown",
   "metadata": {},
   "source": [
    "Supongamos que para cada $F_i$ conocemos la función de distribución de probabilidad respectiva $f_i$. Entonces proponemos $$f(x) = \\sum_i p_if_i(x)$$ como la función de distribución de probabilidad cuya acumulada es $F$."
   ]
  },
  {
   "cell_type": "markdown",
   "metadata": {},
   "source": [
    "Demostramos que efectivamente $f$ tiene la función de probabilidad acumulada deseada $F$.\n",
    "\n",
    "**Dem:**\n",
    "$$F(x) = \\int_{-\\infty}^x f(x)  = \\int_{-\\infty}^x \\sum_i p_i f_i(x) = \\sum_i p_i\\int_{-\\infty}^x f_i(x) = \\sum_i p_iF_i(x)$$"
   ]
  },
  {
   "cell_type": "markdown",
   "metadata": {},
   "source": [
    "### Ejercicio 2 – Función acumulada ponderada (programa):"
   ]
  },
  {
   "cell_type": "markdown",
   "metadata": {},
   "source": [
    "Creamos una función que devuelve la función acumulada ponderada, dados una partición de $[0,1]$ y un conjunto finito de distribuciones de probabilidad. "
   ]
  },
  {
   "cell_type": "code",
   "execution_count": 6,
   "metadata": {},
   "outputs": [],
   "source": [
    "# Recibe P, una particion de [0,1] y f = {f_i} el conjunto de funciones\n",
    "#     de distribucion de probabilidad, con dominio en [0,1]\n",
    "# Devuelve la variable aleatoria f con dist. acumulada F\n",
    "def acumuladaPonderada(P,f):\n",
    "    x = 0\n",
    "    for i in range(len(P)):\n",
    "        x += P[i]*(f[i]())\n",
    "    return x"
   ]
  },
  {
   "cell_type": "markdown",
   "metadata": {},
   "source": [
    "Definimos algunas distribuciones para probar la acumulada ponderada"
   ]
  },
  {
   "cell_type": "code",
   "execution_count": 7,
   "metadata": {},
   "outputs": [],
   "source": [
    "def myUniform():\n",
    "    return np.random.uniform(-10,5)\n",
    "\n",
    "def myPoisson1():\n",
    "    return np.random.poisson()\n",
    "\n",
    "def myPoisson2():\n",
    "    return np.random.poisson(5)"
   ]
  },
  {
   "cell_type": "markdown",
   "metadata": {},
   "source": [
    "Graficamos el histograma de la ditribucion acumulada ponderada"
   ]
  },
  {
   "cell_type": "code",
   "execution_count": 8,
   "metadata": {},
   "outputs": [
    {
     "data": {
      "text/plain": [
       "(array([1.400e+01, 6.800e+01, 2.200e+02, 4.420e+02, 8.170e+02, 1.172e+03,\n",
       "        1.638e+03, 2.146e+03, 2.678e+03, 3.111e+03, 3.318e+03, 3.669e+03,\n",
       "        3.773e+03, 4.088e+03, 4.166e+03, 4.171e+03, 4.270e+03, 4.249e+03,\n",
       "        4.281e+03, 4.368e+03, 4.237e+03, 4.273e+03, 4.240e+03, 4.235e+03,\n",
       "        4.201e+03, 4.195e+03, 3.894e+03, 3.768e+03, 3.252e+03, 2.742e+03,\n",
       "        2.230e+03, 1.704e+03, 1.393e+03, 9.650e+02, 7.300e+02, 4.840e+02,\n",
       "        3.010e+02, 1.900e+02, 1.240e+02, 7.900e+01, 4.200e+01, 2.400e+01,\n",
       "        1.300e+01, 1.400e+01, 5.000e+00, 3.000e+00, 0.000e+00, 1.000e+00,\n",
       "        1.000e+00, 1.000e+00]),\n",
       " array([-2.993476  , -2.80071454, -2.60795308, -2.41519162, -2.22243017,\n",
       "        -2.02966871, -1.83690725, -1.64414579, -1.45138433, -1.25862287,\n",
       "        -1.06586141, -0.87309995, -0.68033849, -0.48757703, -0.29481557,\n",
       "        -0.10205411,  0.09070735,  0.2834688 ,  0.47623026,  0.66899172,\n",
       "         0.86175318,  1.05451464,  1.2472761 ,  1.44003756,  1.63279902,\n",
       "         1.82556048,  2.01832194,  2.2110834 ,  2.40384486,  2.59660632,\n",
       "         2.78936778,  2.98212923,  3.17489069,  3.36765215,  3.56041361,\n",
       "         3.75317507,  3.94593653,  4.13869799,  4.33145945,  4.52422091,\n",
       "         4.71698237,  4.90974383,  5.10250529,  5.29526675,  5.4880282 ,\n",
       "         5.68078966,  5.87355112,  6.06631258,  6.25907404,  6.4518355 ,\n",
       "         6.64459696]),\n",
       " <a list of 50 Patch objects>)"
      ]
     },
     "execution_count": 8,
     "metadata": {},
     "output_type": "execute_result"
    },
    {
     "data": {
      "image/png": "[encoded data removed]",
      "text/plain": [
       "<Figure size 432x288 with 1 Axes>"
      ]
     },
     "metadata": {},
     "output_type": "display_data"
    }
   ],
   "source": [
    "n = 100000\n",
    "P = [0.3,0.5,0.2]\n",
    "f = [\n",
    "    myUniform,\n",
    "    myPoisson1,\n",
    "    myPoisson2\n",
    "]\n",
    "x = []\n",
    "for i in range(n):\n",
    "    x.append(acumuladaPonderada(P,f))\n",
    "plt.hist(x, bins=50)"
   ]
  },
  {
   "cell_type": "markdown",
   "metadata": {},
   "source": [
    "### Ejercicio 3 – Valor presente neto:"
   ]
  },
  {
   "cell_type": "code",
   "execution_count": null,
   "metadata": {},
   "outputs": [],
   "source": [
    "def normal(mu, sigma):\n",
    "    while True:\n",
    "        # lambda = 1\n",
    "        # funcion exponencial = lambda*e^{-lambda*X}\n",
    "        # X = -(1 / lambda)*log_natural(U)\n",
    "        Y1 = -1*(log(np.random.uniform()))\n",
    "        Y2 = -1*(log(np.random.uniform()))\n",
    "        Y = (Y2-((Y1-1)**2))/2\n",
    "        if Y > 0:\n",
    "            if np.random.uniform() < 0.5:\n",
    "                return mu + sigma*Y\n",
    "            else:\n",
    "                return mu - sigma*Y"
   ]
  },
  {
   "cell_type": "code",
   "execution_count": null,
   "metadata": {},
   "outputs": [],
   "source": [
    "def uniform(num1, num2):\n",
    "    uniNum = np.random.uniform()\n",
    "    rango = num2-num1\n",
    "    return num1 + rango*uniNum"
   ]
  },
  {
   "cell_type": "code",
   "execution_count": null,
   "metadata": {},
   "outputs": [],
   "source": [
    "# valor neto de 10%\n",
    "# vpn = -I + sum(t=1, n){F / (1+ k)^{t}}\n",
    "def vpn(t0, a):\n",
    "    sumatoria = 0\n",
    "    for i in range(len(a)-1):\n",
    "        t = normal(a[i][0], a[i][1])\n",
    "        sumatoria = sumatoria + (t/((1.01)**(i+1)))\n",
    "\n",
    "    sumatoria = sumatoria + (uniform(a[len(a)-1][0],a[len(a)-1][1])/((1.01)**(len(a))))\n",
    "    vpn = -t0 + sumatoria\n",
    "    return vpn"
   ]
  },
  {
   "cell_type": "code",
   "execution_count": 14,
   "metadata": {},
   "outputs": [
    {
     "name": "stdout",
     "output_type": "stream",
     "text": [
      "corridas realizadas:  100\n",
      "\tVPN Hotel:  3677.5745438554877\n",
      "\tVPN Centro Comercial:  4131.451328059507\n",
      "corridas realizadas:  1000\n",
      "\tVPN Hotel:  3791.5059791970507\n",
      "\tVPN Centro Comercial:  4005.406574368643\n",
      "corridas realizadas:  10000\n",
      "\tVPN Hotel:  3707.815934817359\n",
      "\tVPN Centro Comercial:  4012.5176348497585\n"
     ]
    }
   ],
   "source": [
    "L = [100, 1000, 10000]\n",
    "for n in L:\n",
    "    vpnH = 0\n",
    "    vpnC = 0\n",
    "    for i in range(n):\n",
    "        # Hotel\n",
    "        hotel = vpn(-800, [[-800, 50],[-800, 10], [-700, 150], [300, 200], [400, 200], [500, 200], [200, 8440]])\n",
    "        vpnH +=hotel\n",
    "        #centro comercial\n",
    "        comercial = vpn(-900,[[-600, 50], [-200, 50], [-600, 100], [250, 150], [350, 150], [400, 150], [1600, 6000]])\n",
    "        vpnC += comercial\n",
    "    print(\"corridas realizadas: \", n)\n",
    "    print(\"\\tVPN Hotel: \", vpnH/n)\n",
    "    print(\"\\tVPN Centro Comercial: \", vpnC/n)\n",
    "    "
   ]
  },
  {
   "cell_type": "markdown",
   "metadata": {},
   "source": [
    "### Ejercicio 4 – Repartidor de periódicos:"
   ]
  },
  {
   "cell_type": "code",
   "execution_count": null,
   "metadata": {},
   "outputs": [],
   "source": []
  },
  {
   "cell_type": "code",
   "execution_count": null,
   "metadata": {},
   "outputs": [],
   "source": []
  }
 ],
 "metadata": {
  "kernelspec": {
   "display_name": "Python 3",
   "language": "python",
   "name": "python3"
  },
  "language_info": {
   "codemirror_mode": {
    "name": "ipython",
    "version": 3
   },
   "file_extension": ".py",
   "mimetype": "text/x-python",
   "name": "python",
   "nbconvert_exporter": "python",
   "pygments_lexer": "ipython3",
   "version": "3.6.5"
  }
 },
 "nbformat": 4,
 "nbformat_minor": 2
}

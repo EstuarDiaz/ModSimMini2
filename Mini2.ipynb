{
 "cells": [
  {
   "cell_type": "markdown",
   "metadata": {},
   "source": [
    "# Mini 2"
   ]
  },
  {
   "cell_type": "markdown",
   "metadata": {},
   "source": [
    "Por: Yasmin Chavez y Estuardo Díaz"
   ]
  },
  {
   "cell_type": "markdown",
   "metadata": {},
   "source": [
    "### Ejercicio 1 – Función acumulada ponderada:"
   ]
  },
  {
   "cell_type": "code",
   "execution_count": 2,
   "metadata": {},
   "outputs": [],
   "source": [
    "import numpy as np\n",
    "import matplotlib.pyplot as plt\n",
    "from math import e, log"
   ]
  },
  {
   "cell_type": "markdown",
   "metadata": {},
   "source": [
    "Supongamos que tenemos una partición $\\{p_i\\}$ de [0,1], y un conjunto finito de funciones de probabilidad acumulada $\\{F_i\\}$.\n",
    "Entonces definimos $$F^*(x) = \\sum_i p_iF_i(x)$$"
   ]
  },
  {
   "cell_type": "markdown",
   "metadata": {},
   "source": [
    "Recordemos que la función de probabilidad acumulada $F$ de una función de distribución de probabilidad $f$ está definida por\n",
    "$$F(x) = \\int_{-\\infty}^x f(t)dt$$"
   ]
  },
  {
   "cell_type": "markdown",
   "metadata": {},
   "source": [
    "Supongamos que para cada $F_i$ conocemos la función de distribución de probabilidad respectiva $f_i$. Entonces proponemos $$f(x) = \\sum_i p_if_i(x)$$ como la función de distribución de probabilidad cuya acumulada $F$ es $F^*$."
   ]
  },
  {
   "cell_type": "markdown",
   "metadata": {},
   "source": [
    "Demostramos que efectivamente $f$ tiene la función de probabilidad acumulada deseada $F^*$.\n",
    "\n",
    "**Dem:**\n",
    "$$F(x) = \\int_{-\\infty}^x f(t)dt  = \\int_{-\\infty}^x \\sum_i p_i f_i(t)dt = \\sum_i p_i\\int_{-\\infty}^x f_i(t)dt = \\sum_i p_iF_i(x) = F^*(x)$$"
   ]
  },
  {
   "cell_type": "markdown",
   "metadata": {},
   "source": [
    "### Algoritmo\n",
    "Supongamos que conocemos la particion $P = \\{p_i\\}$ de [0,1] y el conjunto de variables aleatorias $f = \\{f_i\\}$ que generan las repectivas funciones de probabilidad acumulada $\\{F_i\\}$.\n",
    "\n",
    "Entonces, definimos un algoritmo para calcular la variable aleatoria que genera la función acumulada ponderada:\n",
    "\n",
    "**Pseudocódigo**\n",
    "\\begin{align}\n",
    "&x \\leftarrow 0  \\\\\n",
    "&\\text{Para cada } i=1,\\dots,|P|  \\\\\n",
    "& \\,\\,\\,\\,\\,\\,\\,\\,\\,\\, x := x+ p_i f_i \\\\\n",
    "&\\text{return } x \n",
    "\\end{align}"
   ]
  },
  {
   "cell_type": "markdown",
   "metadata": {},
   "source": [
    "### Ejercicio 2 – Función acumulada ponderada (programa):"
   ]
  },
  {
   "cell_type": "markdown",
   "metadata": {},
   "source": [
    "Creamos una función que devuelve la función acumulada ponderada, dados una partición de $[0,1]$ y un conjunto finito de distribuciones de probabilidad. "
   ]
  },
  {
   "cell_type": "code",
   "execution_count": 16,
   "metadata": {},
   "outputs": [],
   "source": [
    "# Recibe P, una particion de [0,1] y f = {f_i} el conjunto de funciones\n",
    "#     de distribucion de probabilidad, con dominio en [0,1]\n",
    "# Devuelve la variable aleatoria f con dist. acumulada F\n",
    "def acumuladaPonderada(P,f):\n",
    "    x = 0\n",
    "    for i in range(len(P)):\n",
    "        x += P[i]*(f[i]())\n",
    "    return x"
   ]
  },
  {
   "cell_type": "markdown",
   "metadata": {},
   "source": [
    "Definimos algunas distribuciones para probar la acumulada ponderada"
   ]
  },
  {
   "cell_type": "code",
   "execution_count": 37,
   "metadata": {},
   "outputs": [],
   "source": [
    "def myUniform():\n",
    "    return np.random.uniform(-10,5)\n",
    "\n",
    "def myNormal1():\n",
    "    return np.random.normal(0,5)\n",
    "\n",
    "def myNormal2():\n",
    "    return np.random.normal(20,1)"
   ]
  },
  {
   "cell_type": "markdown",
   "metadata": {},
   "source": [
    "Graficamos el histograma de la ditribucion acumulada ponderada"
   ]
  },
  {
   "cell_type": "code",
   "execution_count": 38,
   "metadata": {},
   "outputs": [
    {
     "data": {
      "image/png": "[encoded data removed]",
      "text/plain": [
       "<Figure size 432x288 with 1 Axes>"
      ]
     },
     "metadata": {
      "needs_background": "light"
     },
     "output_type": "display_data"
    }
   ],
   "source": [
    "n = 100000\n",
    "P = [0.5,0.2,0.3]\n",
    "f = [\n",
    "    myUniform,\n",
    "    myNormal1,\n",
    "    myNormal2\n",
    "]\n",
    "x = []\n",
    "for i in range(n):\n",
    "    x.append(acumuladaPonderada(P,f))\n",
    "_ = plt.hist(x, bins=50)"
   ]
  },
  {
   "cell_type": "markdown",
   "metadata": {},
   "source": [
    "### Ejercicio 3 – Valor presente neto:"
   ]
  },
  {
   "cell_type": "code",
   "execution_count": 6,
   "metadata": {},
   "outputs": [],
   "source": [
    "def normal(mu, sigma):\n",
    "    while True:\n",
    "        # lambda = 1\n",
    "        # funcion exponencial = lambda*e^{-lambda*X}\n",
    "        # X = -(1 / lambda)*log_natural(U)\n",
    "        Y1 = -1*(log(np.random.uniform()))\n",
    "        Y2 = -1*(log(np.random.uniform()))\n",
    "        Y = (Y2-((Y1-1)**2))/2\n",
    "        if Y > 0:\n",
    "            if np.random.uniform() < 0.5:\n",
    "                return mu + sigma*Y\n",
    "            else:\n",
    "                return mu - sigma*Y"
   ]
  },
  {
   "cell_type": "code",
   "execution_count": 7,
   "metadata": {},
   "outputs": [],
   "source": [
    "def uniform(num1, num2):\n",
    "    uniNum = np.random.uniform()\n",
    "    rango = num2-num1\n",
    "    return num1 + rango*uniNum"
   ]
  },
  {
   "cell_type": "code",
   "execution_count": 8,
   "metadata": {},
   "outputs": [],
   "source": [
    "# valor neto de 10%\n",
    "# vpn = -I + sum(t=1, n){F / (1+ k)^{t}}\n",
    "def vpn(t0, a):\n",
    "    sumatoria = 0\n",
    "    for i in range(len(a)-1):\n",
    "        t = normal(a[i][0], a[i][1])\n",
    "        sumatoria = sumatoria + (t/((1.01)**(i+1)))\n",
    "\n",
    "    sumatoria = sumatoria + (uniform(a[len(a)-1][0],a[len(a)-1][1])/((1.01)**(len(a))))\n",
    "    vpn = -t0 + sumatoria\n",
    "    return vpn"
   ]
  },
  {
   "cell_type": "code",
   "execution_count": 11,
   "metadata": {},
   "outputs": [
    {
     "name": "stdout",
     "output_type": "stream",
     "text": [
      "Corridas realizadas:  100\n",
      "\tVPN Hotel:             3886.93\n",
      "\tVPN Centro Comercial:  3863.99\n",
      "Corridas realizadas:  1000\n",
      "\tVPN Hotel:             3831.69\n",
      "\tVPN Centro Comercial:  4013.2\n",
      "Corridas realizadas:  10000\n",
      "\tVPN Hotel:             3719.78\n",
      "\tVPN Centro Comercial:  4006.2\n"
     ]
    }
   ],
   "source": [
    "L = [100, 1000, 10000]\n",
    "for n in L:\n",
    "    vpnH = 0\n",
    "    vpnC = 0\n",
    "    for i in range(n):\n",
    "        # Hotel\n",
    "        hotel = vpn(-800, [[-800, 50],[-800, 10], [-700, 150], [300, 200], [400, 200], [500, 200], [200, 8440]])\n",
    "        vpnH +=hotel\n",
    "        #centro comercial\n",
    "        comercial = vpn(-900,[[-600, 50], [-200, 50], [-600, 100], [250, 150], [350, 150], [400, 150], [1600, 6000]])\n",
    "        vpnC += comercial\n",
    "    print(\"Corridas realizadas: \", n)\n",
    "    print(\"\\tVPN Hotel:            \", round(vpnH/n,2))\n",
    "    print(\"\\tVPN Centro Comercial: \", round(vpnC/n,2))\n",
    "    "
   ]
  },
  {
   "cell_type": "markdown",
   "metadata": {},
   "source": [
    "**Conclusión:** Debido a que el VPN de más grande para el centro comercial que el hotel, se recomienda invertir en el centro comercial."
   ]
  },
  {
   "cell_type": "markdown",
   "metadata": {},
   "source": [
    "### Ejercicio 4 – Repartidor de periódicos:"
   ]
  },
  {
   "cell_type": "code",
   "execution_count": null,
   "metadata": {},
   "outputs": [],
   "source": []
  },
  {
   "cell_type": "code",
   "execution_count": null,
   "metadata": {},
   "outputs": [],
   "source": []
  }
 ],
 "metadata": {
  "kernelspec": {
   "display_name": "Python 3",
   "language": "python",
   "name": "python3"
  },
  "language_info": {
   "codemirror_mode": {
    "name": "ipython",
    "version": 3
   },
   "file_extension": ".py",
   "mimetype": "text/x-python",
   "name": "python",
   "nbconvert_exporter": "python",
   "pygments_lexer": "ipython3",
   "version": "3.7.1"
  }
 },
 "nbformat": 4,
 "nbformat_minor": 2
}

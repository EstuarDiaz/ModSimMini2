{
 "cells": [
  {
   "cell_type": "markdown",
   "metadata": {},
   "source": [
    "# Mini 2"
   ]
  },
  {
   "cell_type": "markdown",
   "metadata": {},
   "source": [
    "Por: Yasmin Chavez y Estuardo Díaz"
   ]
  },
  {
   "cell_type": "code",
   "execution_count": 20,
   "metadata": {},
   "outputs": [],
   "source": [
    "import numpy as np\n",
    "import matplotlib.pyplot as plt"
   ]
  },
  {
   "cell_type": "markdown",
   "metadata": {},
   "source": [
    "### Ejercicio 1 – Función acumulada ponderada:"
   ]
  },
  {
   "cell_type": "markdown",
   "metadata": {},
   "source": [
    "Supongamos que tenemos una partición $\\{p_i\\}$ de [0,1], y un conjunto finito de funciones de probabilidad acumulada $\\{F_i\\}$.\n",
    "Entonces definimos $$F(x) = \\sum_i p_iF_i(x)$$"
   ]
  },
  {
   "cell_type": "markdown",
   "metadata": {},
   "source": [
    "Supongamos que para cada $F_i$ conocemos la función de distribución de probabilidad respectiva $f_i$. Entonces proponemos $$f(x) = \\sum_i p_if_i(x)$$ como la función de distribución de probabilidad cuya acumulada es $F$."
   ]
  },
  {
   "cell_type": "markdown",
   "metadata": {},
   "source": [
    "Demostramos que efectivamente $f$ tiene la función de probabilidad acumulada deseada $F$.\n",
    "\n",
    "**Dem:**\n",
    "$$F(x) = \\int_{-\\infty}^x f(x)  = \\int_{-\\infty}^x \\sum_i p_i f_i(x) = \\sum_i p_i\\int_{-\\infty}^x f_i(x) = \\sum_i p_iF_i(x)$$"
   ]
  },
  {
   "cell_type": "markdown",
   "metadata": {},
   "source": [
    "### Ejercicio 2 – Función acumulada ponderada (programa):"
   ]
  },
  {
   "cell_type": "markdown",
   "metadata": {},
   "source": [
    "Creamos una función que devuelve la función acumulada ponderada, dados una partición de $[0,1]$ y un conjunto finito de distribuciones de probabilidad. "
   ]
  },
  {
   "cell_type": "code",
   "execution_count": 34,
   "metadata": {},
   "outputs": [],
   "source": [
    "# Recibe P, una particion de [0,1] y f = {f_i} el conjunto de funciones\n",
    "#     de distribucion de probabilidad, con dominio en [0,1]\n",
    "# Devuelve la variable aleatoria f con dist. acumulada F\n",
    "def acumuladaPonderada(P,f):\n",
    "    x = 0\n",
    "    for i in range(len(P)):\n",
    "        x += P[i]*(f[i]())\n",
    "    return x"
   ]
  },
  {
   "cell_type": "markdown",
   "metadata": {},
   "source": [
    "Definimos algunas distribuciones para probar la acumulada ponderada"
   ]
  },
  {
   "cell_type": "code",
   "execution_count": 56,
   "metadata": {},
   "outputs": [],
   "source": [
    "def myUniform():\n",
    "    return np.random.uniform(-10,5)\n",
    "\n",
    "def myPoisson1():\n",
    "    return np.random.poisson()\n",
    "\n",
    "def myPoisson2():\n",
    "    return np.random.poisson(5)"
   ]
  },
  {
   "cell_type": "markdown",
   "metadata": {},
   "source": [
    "Graficamos el histograma de la ditribucion acumulada ponderada"
   ]
  },
  {
   "cell_type": "code",
   "execution_count": 60,
   "metadata": {},
   "outputs": [
    {
     "data": {
      "text/plain": [
       "(array([1.000e+01, 6.200e+01, 1.830e+02, 3.990e+02, 6.970e+02, 1.109e+03,\n",
       "        1.529e+03, 2.031e+03, 2.557e+03, 2.767e+03, 3.174e+03, 3.394e+03,\n",
       "        3.703e+03, 3.827e+03, 4.012e+03, 4.047e+03, 3.946e+03, 4.103e+03,\n",
       "        4.115e+03, 4.172e+03, 4.120e+03, 4.204e+03, 4.191e+03, 4.209e+03,\n",
       "        4.163e+03, 4.081e+03, 4.023e+03, 3.677e+03, 3.575e+03, 3.069e+03,\n",
       "        2.644e+03, 2.134e+03, 1.757e+03, 1.317e+03, 9.880e+02, 6.820e+02,\n",
       "        4.710e+02, 3.110e+02, 2.230e+02, 1.340e+02, 7.700e+01, 5.100e+01,\n",
       "        3.100e+01, 1.300e+01, 7.000e+00, 7.000e+00, 2.000e+00, 1.000e+00,\n",
       "        0.000e+00, 1.000e+00]),\n",
       " array([-2.98980233e+00, -2.80282180e+00, -2.61584128e+00, -2.42886076e+00,\n",
       "        -2.24188023e+00, -2.05489971e+00, -1.86791918e+00, -1.68093866e+00,\n",
       "        -1.49395813e+00, -1.30697761e+00, -1.11999708e+00, -9.33016557e-01,\n",
       "        -7.46036032e-01, -5.59055507e-01, -3.72074982e-01, -1.85094458e-01,\n",
       "         1.88606726e-03,  1.88866592e-01,  3.75847117e-01,  5.62827642e-01,\n",
       "         7.49808166e-01,  9.36788691e-01,  1.12376922e+00,  1.31074974e+00,\n",
       "         1.49773027e+00,  1.68471079e+00,  1.87169132e+00,  2.05867184e+00,\n",
       "         2.24565236e+00,  2.43263289e+00,  2.61961341e+00,  2.80659394e+00,\n",
       "         2.99357446e+00,  3.18055499e+00,  3.36753551e+00,  3.55451604e+00,\n",
       "         3.74149656e+00,  3.92847709e+00,  4.11545761e+00,  4.30243814e+00,\n",
       "         4.48941866e+00,  4.67639919e+00,  4.86337971e+00,  5.05036024e+00,\n",
       "         5.23734076e+00,  5.42432129e+00,  5.61130181e+00,  5.79828234e+00,\n",
       "         5.98526286e+00,  6.17224339e+00,  6.35922391e+00]),\n",
       " <a list of 50 Patch objects>)"
      ]
     },
     "execution_count": 60,
     "metadata": {},
     "output_type": "execute_result"
    },
    {
     "data": {
      "image/png": "[encoded data removed]",
      "text/plain": [
       "<Figure size 432x288 with 1 Axes>"
      ]
     },
     "metadata": {
      "needs_background": "light"
     },
     "output_type": "display_data"
    }
   ],
   "source": [
    "n = 100000\n",
    "P = [0.3,0.5,0.2]\n",
    "f = [\n",
    "    myUniform,\n",
    "    myPoisson1,\n",
    "    myPoisson2\n",
    "]\n",
    "x = []\n",
    "for i in range(n):\n",
    "    x.append(acumuladaPonderada(P,f))\n",
    "plt.hist(x, bins=50)"
   ]
  },
  {
   "cell_type": "markdown",
   "metadata": {},
   "source": [
    "### Ejercicio 3 – Valor presente neto:"
   ]
  },
  {
   "cell_type": "code",
   "execution_count": null,
   "metadata": {},
   "outputs": [],
   "source": []
  },
  {
   "cell_type": "markdown",
   "metadata": {},
   "source": [
    "### Ejercicio 4 – Repartidor de periódicos:"
   ]
  },
  {
   "cell_type": "code",
   "execution_count": null,
   "metadata": {},
   "outputs": [],
   "source": []
  }
 ],
 "metadata": {
  "kernelspec": {
   "display_name": "Python 3",
   "language": "python",
   "name": "python3"
  },
  "language_info": {
   "codemirror_mode": {
    "name": "ipython",
    "version": 3
   },
   "file_extension": ".py",
   "mimetype": "text/x-python",
   "name": "python",
   "nbconvert_exporter": "python",
   "pygments_lexer": "ipython3",
   "version": "3.7.1"
  }
 },
 "nbformat": 4,
 "nbformat_minor": 2
}
